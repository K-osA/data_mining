{
 "cells": [
  {
   "cell_type": "code",
   "execution_count": 1,
   "metadata": {
    "collapsed": true,
    "pycharm": {
     "name": "#%%\n"
    }
   },
   "outputs": [
    {
     "name": "stdout",
     "output_type": "stream",
     "text": [
      "['전기', '애니메이션', '시대극', '스릴러', '스포츠', '재난', '모험', '공포', '음악', '틴에이저', '역사', '범죄', 'SF', '전쟁', '단편', '로맨스', '드라마', '로맨틱 코미디', '가족', '액션', '뮤지컬', '코미디', '판타지', '미스터리', '다큐멘터리']\n"
     ]
    }
   ],
   "source": [
    "import csv\n",
    "import os\n",
    "import pandas as pd\n",
    "path = 'users/'\n",
    "\n",
    "genre_set = set()\n",
    "\n",
    "# 전체 장르 추출\n",
    "for user in os.listdir(path):\n",
    "    with open(path+user, 'r') as f:\n",
    "        cr = csv.reader(f)\n",
    "        for line in cr:\n",
    "            for l in line:\n",
    "                genre_set.add(l)\n",
    "            break\n",
    "genre = list(genre_set)\n",
    "print(genre)"
   ]
  },
  {
   "cell_type": "code",
   "execution_count": 2,
   "outputs": [],
   "source": [
    "# 수집한 csv 파일들을 하나로 모으는 작업\n",
    "df_all = pd.DataFrame()\n",
    "for user in os.listdir(path):\n",
    "    user_name = user.split('.')[0]\n",
    "    df = pd.read_csv(path+user, encoding='utf-8')\n",
    "    df['name'] = user_name\n",
    "    df_all = pd.concat([df_all, df])"
   ],
   "metadata": {
    "collapsed": false,
    "pycharm": {
     "name": "#%%\n"
    }
   }
  },
  {
   "cell_type": "code",
   "execution_count": 3,
   "outputs": [
    {
     "name": "stdout",
     "output_type": "stream",
     "text": [
      "                 드라마    액션   코미디   스릴러    범죄    모험   로맨스  애니메이션  미스터리    SF  \\\n",
      "name                                                                          \n",
      "김양우               93  92.0  90.0  86.0  85.0  84.0  83.0   80.0  75.0  75.0   \n",
      "연서                94  89.0  90.0   NaN  82.0  82.0  89.0   80.0   NaN  70.0   \n",
      "연기는 히스레저처럼        94  92.0  90.0  79.0  84.0  83.0  85.0   88.0   NaN   NaN   \n",
      "julie             94  89.0  92.0  83.0  78.0  85.0  86.0   79.0   NaN   NaN   \n",
      "김피디               90  94.0  91.0  81.0  77.0  88.0   NaN   79.0   NaN  77.0   \n",
      "...              ...   ...   ...   ...   ...   ...   ...    ...   ...   ...   \n",
      "이상준               94  92.0  87.0  82.0  81.0  87.0  81.0   84.0   NaN  78.0   \n",
      "이경민               91  93.0  88.0  81.0  80.0  89.0   NaN   86.0   NaN  81.0   \n",
      "레터박스 Letterboxd   95  86.0  88.0  80.0  86.0  84.0  81.0   79.0   NaN   NaN   \n",
      "또로로               95  89.0  90.0  84.0  86.0  79.0  78.0    NaN   NaN   NaN   \n",
      "HsRoh             92  93.0  91.0  81.0  80.0  87.0  84.0   81.0   NaN  81.0   \n",
      "\n",
      "                 ...  음악  틴에이저  시대극  역사  다큐멘터리  단편  전쟁  재난  스포츠  뮤지컬  \n",
      "name             ...                                                  \n",
      "김양우              ... NaN   NaN  NaN NaN    NaN NaN NaN NaN  NaN  NaN  \n",
      "연서               ... NaN   NaN  NaN NaN    NaN NaN NaN NaN  NaN  NaN  \n",
      "연기는 히스레저처럼       ... NaN   NaN  NaN NaN    NaN NaN NaN NaN  NaN  NaN  \n",
      "julie            ... NaN   NaN  NaN NaN    NaN NaN NaN NaN  NaN  NaN  \n",
      "김피디              ... NaN   NaN  NaN NaN    NaN NaN NaN NaN  NaN  NaN  \n",
      "...              ...  ..   ...  ...  ..    ...  ..  ..  ..  ...  ...  \n",
      "이상준              ... NaN   NaN  NaN NaN    NaN NaN NaN NaN  NaN  NaN  \n",
      "이경민              ... NaN   NaN  NaN NaN    NaN NaN NaN NaN  NaN  NaN  \n",
      "레터박스 Letterboxd  ... NaN   NaN  NaN NaN    NaN NaN NaN NaN  NaN  NaN  \n",
      "또로로              ... NaN   NaN  NaN NaN   75.0 NaN NaN NaN  NaN  NaN  \n",
      "HsRoh            ... NaN   NaN  NaN NaN    NaN NaN NaN NaN  NaN  NaN  \n",
      "\n",
      "[2804 rows x 25 columns]\n"
     ]
    }
   ],
   "source": [
    "df_all = df_all.set_index('name')\n",
    "\n",
    "# 대부분이 NaN 값인 column drop\n",
    "df_all = df_all.drop(columns=['가족','전기','공포','음악','틴에이저','시대극','역사','다큐멘터리','단편','전쟁','재난','스포츠','뮤지컬','로맨틱 코미디'])\n",
    "\n",
    "df_all.to_csv('result.csv', na_rep='NaN')\n",
    "print(df_all)"
   ],
   "metadata": {
    "collapsed": false,
    "pycharm": {
     "name": "#%%\n"
    }
   }
  },
  {
   "cell_type": "code",
   "execution_count": 9,
   "outputs": [],
   "source": [],
   "metadata": {
    "collapsed": false,
    "pycharm": {
     "name": "#%%\n"
    }
   }
  },
  {
   "cell_type": "code",
   "execution_count": null,
   "outputs": [],
   "source": [],
   "metadata": {
    "collapsed": false,
    "pycharm": {
     "name": "#%%\n"
    }
   }
  }
 ],
 "metadata": {
  "kernelspec": {
   "name": "pycharm-ff29af1a",
   "language": "python",
   "display_name": "PyCharm (집교)"
  },
  "language_info": {
   "codemirror_mode": {
    "name": "ipython",
    "version": 2
   },
   "file_extension": ".py",
   "mimetype": "text/x-python",
   "name": "python",
   "nbconvert_exporter": "python",
   "pygments_lexer": "ipython2",
   "version": "2.7.6"
  }
 },
 "nbformat": 4,
 "nbformat_minor": 0
}
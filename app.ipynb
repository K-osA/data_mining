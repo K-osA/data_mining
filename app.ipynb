{
 "cells": [
  {
   "cell_type": "code",
   "execution_count": 1,
   "metadata": {
    "collapsed": true
   },
   "outputs": [],
   "source": [
    "from operator import itemgetter\n",
    "from flask import Flask\n",
    "from flask import render_template\n",
    "from flask import request\n",
    "import pandas as pd\n",
    "from scipy.stats import pearsonr\n",
    "import tqdm"
   ]
  },
  {
   "cell_type": "code",
   "execution_count": 2,
   "outputs": [],
   "source": [
    "csv_path = './result.csv'\n",
    "\n",
    "\n",
    "df = pd.read_csv(csv_path, encoding='utf-8')\n",
    "df = df.set_index('name')\n",
    "df = df.fillna('NaN')\n",
    "\n",
    "item = df.index\n",
    "\n",
    "n = 50\n",
    "similarity = {}"
   ],
   "metadata": {
    "collapsed": false,
    "pycharm": {
     "name": "#%%\n"
    }
   }
  },
  {
   "cell_type": "code",
   "execution_count": 3,
   "outputs": [],
   "source": [
    "def user_similarity(user1, user2):\n",
    "    both_rated = {}\n",
    "    for item in df.keys():\n",
    "        try:\n",
    "            if df.loc[user1][item] != 'NaN' and df.loc[user2][item] != 'NaN':\n",
    "                both_rated[item] = [df.loc[user1][item], df.loc[user2][item]]\n",
    "        except:\n",
    "            continue\n",
    "\n",
    "    number_of_ratings = len(both_rated)\n",
    "    if number_of_ratings == 0:\n",
    "        return 0\n",
    "\n",
    "    user1_ratings = [df[k][user1] for k, v in both_rated.items() if df[k][user1] != 'NaN' and df[k][user2] != 'NaN']\n",
    "    user2_ratings = [df[k][user2] for k, v in both_rated.items() if df[k][user1] != 'NaN' and df[k][user2] != 'NaN']\n",
    "\n",
    "    cs = pearsonr(user1_ratings, user2_ratings)\n",
    "    return cs[0]"
   ],
   "metadata": {
    "collapsed": false,
    "pycharm": {
     "name": "#%%\n"
    }
   }
  },
  {
   "cell_type": "code",
   "execution_count": 4,
   "outputs": [],
   "source": [
    "def get_unseen_genres(user):\n",
    "    unseen = []\n",
    "    for item in df.keys():\n",
    "        if df.loc[user][item] == 'NaN':\n",
    "            unseen.append(item)\n",
    "    return unseen"
   ],
   "metadata": {
    "collapsed": false,
    "pycharm": {
     "name": "#%%\n"
    }
   }
  },
  {
   "cell_type": "code",
   "execution_count": 5,
   "outputs": [],
   "source": [
    "def get_weighted_average(items, n):\n",
    "    res = {}\n",
    "    for item in items:\n",
    "        sum1 = 0\n",
    "        sum2 = 0\n",
    "        for i in range(n):\n",
    "            if df.loc[similarity[i][0]][item] == 'NaN':\n",
    "                n += 1\n",
    "                continue\n",
    "            sum1 += (similarity[i][1] * df.loc[similarity[i][0]][item])\n",
    "            sum2 += similarity[i][1]\n",
    "        res[item] = sum1 / sum2\n",
    "    return res\n",
    "\n"
   ],
   "metadata": {
    "collapsed": false,
    "pycharm": {
     "name": "#%%\n"
    }
   }
  },
  {
   "cell_type": "code",
   "execution_count": 6,
   "outputs": [],
   "source": [
    "app = Flask(__name__)"
   ],
   "metadata": {
    "collapsed": false,
    "pycharm": {
     "name": "#%%\n"
    }
   }
  },
  {
   "cell_type": "code",
   "execution_count": 7,
   "outputs": [],
   "source": [
    "@app.route(\"/\")\n",
    "def main():\n",
    "    return render_template(\"main.html\")"
   ],
   "metadata": {
    "collapsed": false,
    "pycharm": {
     "name": "#%%\n"
    }
   }
  },
  {
   "cell_type": "code",
   "execution_count": 8,
   "outputs": [],
   "source": [
    "@app.route(\"/result\", methods=['GET'])\n",
    "def result():\n",
    "    global similarity\n",
    "    similarity = {}\n",
    "\n",
    "    user1 = request.args.get('name')\n",
    "\n",
    "    if user1 not in df.index:\n",
    "        return \"찾고자 하는 사람이 DB에 존재하지 않습니다.\"\n",
    "    for user2 in tqdm.tqdm(df.index):\n",
    "        if user1 != user2:\n",
    "            similarity[user2] = user_similarity(user1, user2)\n",
    "    similarity = sorted(similarity.items(), key=itemgetter(1), reverse=True)\n",
    "    similarity_n = []\n",
    "    for i in range(5):\n",
    "        similarity_n.append(similarity[i][0])\n",
    "\n",
    "    unseen_genres = get_unseen_genres(user1)\n",
    "    result = get_weighted_average(unseen_genres, n)\n",
    "    result = sorted(result.items(), key=itemgetter(1), reverse=True)\n",
    "    return render_template(\"res.html\", similarity = similarity_n, name = user1, result = result, n = n)"
   ],
   "metadata": {
    "collapsed": false,
    "pycharm": {
     "name": "#%%\n"
    }
   }
  },
  {
   "cell_type": "code",
   "execution_count": null,
   "outputs": [
    {
     "name": "stdout",
     "output_type": "stream",
     "text": [
      " * Serving Flask app '__main__'\n",
      " * Debug mode: off\n"
     ]
    },
    {
     "name": "stderr",
     "output_type": "stream",
     "text": [
      "\u001B[31m\u001B[1mWARNING: This is a development server. Do not use it in a production deployment. Use a production WSGI server instead.\u001B[0m\n",
      " * Running on http://127.0.0.1:5000\n",
      "\u001B[33mPress CTRL+C to quit\u001B[0m\n",
      "100%|██████████| 2805/2805 [00:16<00:00, 167.90it/s]\n",
      "127.0.0.1 - - [25/Oct/2022 23:25:36] \"GET /result?name=희희 HTTP/1.1\" 200 -\n",
      "127.0.0.1 - - [25/Oct/2022 23:25:50] \"GET / HTTP/1.1\" 200 -\n"
     ]
    }
   ],
   "source": [
    "if __name__ == \"__main__\":\n",
    "    app.run()"
   ],
   "metadata": {
    "collapsed": false,
    "pycharm": {
     "name": "#%%\n",
     "is_executing": true
    }
   }
  },
  {
   "cell_type": "code",
   "execution_count": null,
   "outputs": [],
   "source": [],
   "metadata": {
    "collapsed": false,
    "pycharm": {
     "name": "#%%",
     "is_executing": true
    }
   }
  }
 ],
 "metadata": {
  "kernelspec": {
   "name": "pycharm-ff29af1a",
   "language": "python",
   "display_name": "PyCharm (집교)"
  },
  "language_info": {
   "codemirror_mode": {
    "name": "ipython",
    "version": 2
   },
   "file_extension": ".py",
   "mimetype": "text/x-python",
   "name": "python",
   "nbconvert_exporter": "python",
   "pygments_lexer": "ipython2",
   "version": "2.7.6"
  }
 },
 "nbformat": 4,
 "nbformat_minor": 0
}
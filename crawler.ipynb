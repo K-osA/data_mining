{
 "cells": [
  {
   "cell_type": "code",
   "execution_count": 179,
   "metadata": {
    "collapsed": true
   },
   "outputs": [],
   "source": [
    "import csv\n",
    "from selenium import webdriver\n",
    "from selenium.webdriver.common.by import By\n",
    "import time\n",
    "import tqdm"
   ]
  },
  {
   "cell_type": "code",
   "execution_count": 180,
   "outputs": [],
   "source": [
    "base_url = \"https://pedia.watcha.com/ko-KR/?domain=movie\"\n",
    "driver = webdriver.Chrome(\"./chromedriver\")"
   ],
   "metadata": {
    "collapsed": false,
    "pycharm": {
     "name": "#%%\n"
    }
   }
  },
  {
   "cell_type": "code",
   "execution_count": 183,
   "outputs": [],
   "source": [
    "driver.get(base_url)\n",
    "driver.implicitly_wait(20)"
   ],
   "metadata": {
    "collapsed": false,
    "pycharm": {
     "name": "#%%\n"
    }
   }
  },
  {
   "cell_type": "code",
   "execution_count": 184,
   "outputs": [
    {
     "name": "stderr",
     "output_type": "stream",
     "text": [
      "  0%|          | 0/119 [00:02<?, ?it/s]\n"
     ]
    }
   ],
   "source": [
    "rankings = driver.find_elements_by_class_name('css-8y23cj')\n",
    "for i in tqdm.tqdm(range(11, len(rankings))):\n",
    "    # 영화 상세 페이지\n",
    "    ranking_xPath = '//*[@id=\"root\"]/div/div[1]/section/div/section/div[1]/div[2]/div/div[1]/div/div/ul/li['+str(i)+']'\n",
    "    ranking = driver.find_element(By.XPATH, ranking_xPath)\n",
    "    ranking.click()\n",
    "    # 코멘트 페이지\n",
    "    comment_xPath = '//*[@id=\"root\"]/div/div[1]/section/div/div[2]/div/div/div/div[1]/div[1]/div/div/section[5]/div[1]/div/header/div/div/a'\n",
    "    comment = driver.find_element(By.XPATH, comment_xPath)\n",
    "    comment.click()\n",
    "\n",
    "\n",
    "    break"
   ],
   "metadata": {
    "collapsed": false,
    "pycharm": {
     "name": "#%%\n"
    }
   }
  },
  {
   "cell_type": "code",
   "execution_count": 185,
   "outputs": [],
   "source": [
    "# 스크롤 끝까지 내려서 다음 정보 얻기\n",
    "t_end = time.time() + 1800\n",
    "while time.time() < t_end:\n",
    "    driver.execute_script(\"window.scrollTo(0, document.body.scrollHeight-5);\")\n",
    "    time.sleep(2)"
   ],
   "metadata": {
    "collapsed": false,
    "pycharm": {
     "name": "#%%\n"
    }
   }
  },
  {
   "cell_type": "code",
   "execution_count": 186,
   "outputs": [
    {
     "name": "stderr",
     "output_type": "stream",
     "text": [
      "100%|██████████| 2633/2633 [01:40<00:00, 26.18it/s]"
     ]
    },
    {
     "name": "stdout",
     "output_type": "stream",
     "text": [
      "2633\n"
     ]
    },
    {
     "name": "stderr",
     "output_type": "stream",
     "text": [
      "\n"
     ]
    }
   ],
   "source": [
    "# 코멘트 페이지에 있는 유저 페이지 목록 수집\n",
    "users = driver.find_elements_by_class_name('css-bawlbm')\n",
    "users_href = []\n",
    "for i in tqdm.tqdm(range(1, len(users))):\n",
    "    user_xPath = '//*[@id=\"root\"]/div/div[1]/section/section/div/div/div/ul/div['+str(i)+']/div[1]/div[1]/a'\n",
    "    user = driver.find_element(By.XPATH, user_xPath)\n",
    "    users_href.append(user.get_attribute('href'))\n",
    "print(len(users_href))"
   ],
   "metadata": {
    "collapsed": false,
    "pycharm": {
     "name": "#%%\n"
    }
   }
  },
  {
   "cell_type": "code",
   "execution_count": 187,
   "outputs": [
    {
     "name": "stderr",
     "output_type": "stream",
     "text": [
      "  0%|          | 0/2633 [00:00<?, ?it/s]/var/folders/xr/ktrktz4s3ss6jp1765b9dq4w0000gn/T/ipykernel_75439/1368311777.py:3: DeprecationWarning: use driver.switch_to.window instead\n",
      "  driver.switch_to_window(window_name=last_tap)\n",
      "/var/folders/xr/ktrktz4s3ss6jp1765b9dq4w0000gn/T/ipykernel_75439/1368311777.py:10: DeprecationWarning: use driver.switch_to.window instead\n",
      "  driver.switch_to_window(window_name=last_tap)\n",
      "100%|██████████| 2633/2633 [9:07:42<00:00, 12.48s/it]  \n"
     ]
    }
   ],
   "source": [
    "for user_href in tqdm.tqdm(users_href):\n",
    "    # 유저 분석 탭 이동\n",
    "    last_tap = driver.window_handles[-1]\n",
    "    driver.switch_to_window(window_name=last_tap)\n",
    "    driver.get(user_href)\n",
    "    analysis_xPath = '//*[@id=\"root\"]/div/div[1]/section/div/div/div/div/section/div[2]/div[1]/ul/li/a/span[2]'\n",
    "    analysis = driver.find_element(By.XPATH, analysis_xPath)\n",
    "    analysis.click()\n",
    "\n",
    "    # 유저의 장르별 점수 수집 후 한 명당 하나의 csv 파일로 저장\n",
    "    last_tap = driver.window_handles[-1]\n",
    "    driver.switch_to_window(window_name=last_tap)\n",
    "    user_name_xPath = '//*[@id=\"root\"]/div/div[1]/section/div/div[2]/div[1]/header/div/div/h1/div/div[2]'\n",
    "    user_name = driver.find_element(By.XPATH, user_name_xPath).text\n",
    "\n",
    "    try:\n",
    "        more_xPath = '//*[@id=\"root\"]/div/div[1]/section/div/div[2]/div[3]/section[5]/div[2]/div/button'\n",
    "        more = driver.find_element(By.XPATH, more_xPath)\n",
    "        more.click()\n",
    "\n",
    "        top_3_ul_xPath = '//*[@id=\"root\"]/div/div[1]/section/div/div[2]/div[3]/section[5]/div[2]/div/div/ul'\n",
    "        other_genre_ul_xPATH = '//*[@id=\"root\"]/div/div[1]/section/div/div[2]/div[3]/section[5]/div[2]/div/ul'\n",
    "        top_3_ul = driver.find_element(By.XPATH, top_3_ul_xPath)\n",
    "        other_genre_ul = driver.find_element(By.XPATH, other_genre_ul_xPATH)\n",
    "\n",
    "        genre = {}\n",
    "        for top_3_div in top_3_ul.find_elements_by_css_selector('li'):\n",
    "            genre_name = top_3_div.find_element_by_css_selector('div').text\n",
    "            genre_score = top_3_div.find_element_by_css_selector('div+div').text\n",
    "            genre[genre_name] =  int(genre_score.split('점')[0])\n",
    "\n",
    "        for other_genre_div in other_genre_ul.find_elements_by_css_selector('li'):\n",
    "            genre_name = other_genre_div.text\n",
    "            genre_score = other_genre_div.find_element_by_css_selector('span').text\n",
    "            genre[genre_name.split('\\n')[0]] = int(genre_score.split('점')[0])\n",
    "\n",
    "        driver.close()\n",
    "\n",
    "        with open('users/'+user_name+'.csv', 'w') as f:\n",
    "            w = csv.writer(f)\n",
    "            w.writerow(genre.keys())\n",
    "            w.writerow(genre.values())\n",
    "    except:\n",
    "        pass"
   ],
   "metadata": {
    "collapsed": false,
    "pycharm": {
     "name": "#%%\n"
    }
   }
  },
  {
   "cell_type": "code",
   "execution_count": null,
   "outputs": [],
   "source": [],
   "metadata": {
    "collapsed": false,
    "pycharm": {
     "name": "#%%\n"
    }
   }
  }
 ],
 "metadata": {
  "kernelspec": {
   "name": "pycharm-ff29af1a",
   "language": "python",
   "display_name": "PyCharm (집교)"
  },
  "language_info": {
   "codemirror_mode": {
    "name": "ipython",
    "version": 2
   },
   "file_extension": ".py",
   "mimetype": "text/x-python",
   "name": "python",
   "nbconvert_exporter": "python",
   "pygments_lexer": "ipython2",
   "version": "2.7.6"
  }
 },
 "nbformat": 4,
 "nbformat_minor": 0
}